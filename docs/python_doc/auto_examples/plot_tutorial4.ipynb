{
 "cells": [
  {
   "cell_type": "markdown",
   "metadata": {},
   "source": [
    "# Tutorial 4: Subcortical surface visualization\n",
    "In this tutorial, we will display subcortical surface data.\n",
    "\n",
    "The subcortical viewer includes 16 segmented subcortical structures obtained\n",
    "from the Desikan-Killiany atlas (aparc+aseg.mgz). Subcortical regions are:\n",
    "bilateral accumbens, amygdala, caudate, hippocampus, pallidum, putamen, thalamus,\n",
    "and ventricles."
   ]
  },
  {
   "cell_type": "code",
   "execution_count": 1,
   "metadata": {},
   "outputs": [],
   "source": [
    "import numpy as np\n",
    "from brainspace.datasets import load_subcortical\n",
    "from brainspace.plotting import plot_hemispheres\n",
    "from brainspace.utils.parcellation import subcorticalvertices\n",
    "\n",
    "# Transform subcortical values (one per subcortical structure) to vertices\n",
    "# Input values (i.e., subcortical_values) are ordered as follows:\n",
    "#     np.array([left-accumbens, left-amygdala, left-caudate, left-hippocampus,\n",
    "#               left-pallidum, left-putamen, left-thalamus, left-ventricles,\n",
    "#               right-accumbens, right-amygdala, right-caudate, right-hippocampus,\n",
    "#               right-pallidum, right-putamen, right-thalamus, right-ventricles])\n",
    "data = subcorticalvertices(subcortical_values=np.array(range(16)))\n",
    "\n",
    "# Load subcortical surfaces\n",
    "surf_lh, surf_rh = load_subcortical()\n",
    "\n",
    "# Plot subcortical values\n",
    "plot_hemispheres(surf_lh, surf_rh, array_name=data, size=(800, 400),\n",
    "                 cmap='viridis', color_range=(0,15), color_bar=True)"
   ]
  }
 ],
 "metadata": {
  "kernelspec": {
   "display_name": "Python 3",
   "language": "python",
   "name": "python3"
  },
  "language_info": {
   "codemirror_mode": {
    "name": "ipython",
    "version": 3
   },
   "file_extension": ".py",
   "mimetype": "text/x-python",
   "name": "python",
   "nbconvert_exporter": "python",
   "pygments_lexer": "ipython3",
   "version": "3.7.6"
  }
 },
 "nbformat": 4,
 "nbformat_minor": 4
}
