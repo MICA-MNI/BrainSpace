{
  "cells": [
    {
      "cell_type": "code",
      "execution_count": 7,
      "metadata": {
        "collapsed": false
      },
      "outputs": [],
      "source": [
        "%matplotlib inline"
      ]
    },
    {
      "cell_type": "markdown",
      "metadata": {},
      "source": [
        "\n",
        "# Tutorial 2: Customizing and aligning gradients\n",
        "In this tutorial you’ll learn about the methods available within the\n",
        "GradientMaps class. The flexible usage of this class allows for the\n",
        "customization of gradient computation with different kernels and dimensionality\n",
        "reductions, as well as aligning gradients from different datasets. This\n",
        "tutorial will only show you how to apply these techniques.\n"
      ]
    },
    {
      "cell_type": "markdown",
      "metadata": {},
      "source": [
        "## Customizing gradient computation\n",
        "As before, we’ll start by loading the sample data.\n",
        "\n"
      ]
    },
    {
      "cell_type": "code",
      "execution_count": 8,
      "metadata": {
        "collapsed": false
      },
      "outputs": [],
      "source": [
        "from brainspace.datasets import load_group_fc, load_parcellation, load_conte69\n",
        "\n",
        "# First load mean connectivity matrix and Schaefer parcellation\n",
        "conn_matrix = load_group_fc('schaefer', scale=400)\n",
        "labeling = load_parcellation('schaefer', scale=400, join=True)\n",
        "\n",
        "mask = labeling != 0\n",
        "\n",
        "# and load the conte69 hemisphere surfaces\n",
        "surf_lh, surf_rh = load_conte69()"
      ]
    },
    {
      "cell_type": "markdown",
      "metadata": {},
      "source": [
        "The GradientMaps object allows for many different kernels and dimensionality\n",
        "reduction techniques. Let’s have a look at three different kernels.\n",
        "\n"
      ]
    },
    {
      "cell_type": "code",
      "execution_count": 9,
      "metadata": {},
      "outputs": [],
      "source": [
        "import numpy as np\n",
        "\n",
        "# Check for NaNs\n",
        "if np.isnan(conn_matrix).any():\n",
        "    print(\"NaNs detected in the connectivity matrix.\")\n",
        "\n",
        "# Check for Infs\n",
        "if np.isinf(conn_matrix).any():\n",
        "    print(\"Infs detected in the connectivity matrix.\")\n",
        "\n",
        "# Check for rows of zeros\n",
        "zero_rows = np.where(~conn_matrix.any(axis=1))[0]\n",
        "if zero_rows.size > 0:\n",
        "    print(f\"Rows with all zeros detected: {zero_rows}\")\n"
      ]
    },
    {
      "cell_type": "code",
      "execution_count": null,
      "metadata": {
        "collapsed": false
      },
      "outputs": [],
      "source": [
        "import numpy as np\n",
        "\n",
        "from brainspace.gradient import GradientMaps\n",
        "from brainspace.plotting import plot_hemispheres\n",
        "from brainspace.utils.parcellation import map_to_labels\n",
        "\n",
        "kernels = ['pearson', 'spearman', 'normalized_angle']\n",
        "\n",
        "gradients_kernel = [None] * len(kernels)\n",
        "for i, k in enumerate(kernels):\n",
        "    gm = GradientMaps(kernel=k, approach='dm', random_state=0)\n",
        "    gm.fit(conn_matrix)\n",
        "\n",
        "    gradients_kernel[i] = map_to_labels(gm.gradients_[:, 0], labeling, mask=mask,\n",
        "                                        fill=np.nan)\n",
        "\n",
        "\n",
        "label_text = ['Pearson', 'Spearman', 'Normalized\\nAngle']\n",
        "plot_hemispheres(surf_lh, surf_rh, array_name=gradients_kernel, size=(1200, 600),\n",
        "                 cmap='viridis_r', color_bar=True, label_text=label_text, zoom=1.45)"
      ]
    },
    {
      "cell_type": "markdown",
      "metadata": {},
      "source": [
        "It seems the gradients provided by these kernels are quite similar although\n",
        "their scaling is quite different. Do note that the gradients are in arbitrary\n",
        "units, so the smaller/larger axes across kernels do not imply anything.\n",
        "Similar to using different kernels, we can also use different dimensionality\n",
        "reduction techniques.\n",
        "\n"
      ]
    },
    {
      "cell_type": "code",
      "execution_count": null,
      "metadata": {
        "collapsed": false
      },
      "outputs": [],
      "source": [
        "# PCA, Laplacian eigenmaps and diffusion mapping\n",
        "embeddings = ['pca', 'le', 'dm']\n",
        "\n",
        "gradients_embedding = [None] * len(embeddings)\n",
        "for i, emb in enumerate(embeddings):\n",
        "    gm = GradientMaps(kernel='normalized_angle', approach=emb, random_state=0)\n",
        "    gm.fit(conn_matrix)\n",
        "\n",
        "    gradients_embedding[i] = map_to_labels(gm.gradients_[:, 0], labeling, mask=mask,\n",
        "                                           fill=np.nan)\n",
        "\n",
        "\n",
        "label_text = ['PCA', 'LE', 'DM']\n",
        "plot_hemispheres(surf_lh, surf_rh, array_name=gradients_embedding, size=(1200, 600),\n",
        "                 cmap='viridis_r', color_bar=True, label_text=label_text, zoom=1.45)"
      ]
    },
    {
      "cell_type": "markdown",
      "metadata": {},
      "source": [
        "## Gradient alignment\n",
        "\n",
        "A more principled way of increasing comparability across gradients are\n",
        "alignment techniques. BrainSpace provides two alignment techniques:\n",
        "Procrustes analysis, and joint alignment. For this example we will load\n",
        "functional connectivity data of a second subject group and align it with the\n",
        "first group.\n",
        "\n"
      ]
    },
    {
      "cell_type": "code",
      "execution_count": null,
      "metadata": {
        "collapsed": false
      },
      "outputs": [],
      "source": [
        "conn_matrix2 = load_group_fc('schaefer', scale=400, group='holdout')\n",
        "gp = GradientMaps(kernel='normalized_angle', alignment='procrustes')\n",
        "gj = GradientMaps(kernel='normalized_angle', alignment='joint')\n",
        "\n",
        "gp.fit([conn_matrix, conn_matrix2])\n",
        "gj.fit([conn_matrix, conn_matrix2])"
      ]
    },
    {
      "cell_type": "markdown",
      "metadata": {},
      "source": [
        "Here, `gp` contains the Procrustes aligned data and `gj` contains the joint\n",
        "aligned data. Let’s plot them, but in separate figures to keep things\n",
        "organized.\n",
        "\n"
      ]
    },
    {
      "cell_type": "code",
      "execution_count": null,
      "metadata": {
        "collapsed": false
      },
      "outputs": [],
      "source": [
        "# First gradient from original and holdout data, without alignment\n",
        "gradients_unaligned = [None] * 2\n",
        "for i in range(2):\n",
        "    gradients_unaligned[i] = map_to_labels(gp.gradients_[i][:, 0], labeling,\n",
        "                                           mask=mask, fill=np.nan)\n",
        "\n",
        "label_text = ['Unaligned\\nGroup 1', 'Unaligned\\nGroup 2']\n",
        "plot_hemispheres(surf_lh, surf_rh, array_name=gradients_unaligned, size=(1200, 400),\n",
        "                 cmap='viridis_r', color_bar=True, label_text=label_text, zoom=1.5)"
      ]
    },
    {
      "cell_type": "code",
      "execution_count": null,
      "metadata": {
        "collapsed": false
      },
      "outputs": [],
      "source": [
        "# With procrustes alignment\n",
        "gradients_procrustes = [None] * 2\n",
        "for i in range(2):\n",
        "    gradients_procrustes[i] = map_to_labels(gp.aligned_[i][:, 0], labeling, mask=mask,\n",
        "                                            fill=np.nan)\n",
        "\n",
        "label_text = ['Procrustes\\nGroup 1', 'Procrustes\\nGroup 2']\n",
        "plot_hemispheres(surf_lh, surf_rh, array_name=gradients_procrustes, size=(1200, 400),\n",
        "                 cmap='viridis_r', color_bar=True, label_text=label_text, zoom=1.5)"
      ]
    },
    {
      "cell_type": "code",
      "execution_count": null,
      "metadata": {
        "collapsed": false
      },
      "outputs": [],
      "source": [
        "# With joint alignment\n",
        "gradients_joint = [None] * 2\n",
        "for i in range(2):\n",
        "    gradients_joint[i] = map_to_labels(gj.aligned_[i][:, 0], labeling, mask=mask,\n",
        "                                       fill=np.nan)\n",
        "\n",
        "label_text = ['Joint\\nGroup 1', 'Joint\\nGroup 2']\n",
        "plot_hemispheres(surf_lh, surf_rh, array_name=gradients_joint, size=(1200, 400),\n",
        "                 cmap='viridis_r', color_bar=True, label_text=label_text, zoom=1.5)"
      ]
    },
    {
      "cell_type": "markdown",
      "metadata": {},
      "source": [
        "Although in this example, we don't see any big differences, if the input data\n",
        "was less similar, alignments may also resolve changes in the order of the\n",
        "gradients. However, you should always inspect the output of an alignment;\n",
        "if the input data are sufficiently dissimilar then the alignment may produce\n",
        "odd results.\n",
        "\n",
        "\n",
        "In some instances, you may want to align gradients to an out-of-sample\n",
        "gradient, for example when aligning individuals to a hold-out group gradient.\n",
        "When performing a Procrustes alignemnt, a 'reference' can be specified.\n",
        "The first alignment iteration will then be to the reference. For purposes of\n",
        "this example, we will use the gradient of the hold-out group as the\n",
        "reference.\n",
        "\n"
      ]
    },
    {
      "cell_type": "code",
      "execution_count": null,
      "metadata": {
        "collapsed": false
      },
      "outputs": [],
      "source": [
        "gref = GradientMaps(kernel='normalized_angle', approach='le')\n",
        "gref.fit(conn_matrix2)\n",
        "\n",
        "galign = GradientMaps(kernel='normalized_angle', approach='le', alignment='procrustes')\n",
        "galign.fit(conn_matrix, reference=gref.gradients_)"
      ]
    },
    {
      "cell_type": "markdown",
      "metadata": {},
      "source": [
        "The gradients in `galign.aligned_` are now aligned to the reference\n",
        "gradients.\n",
        "\n",
        "## Gradient fusion\n",
        "We can also fuse data across multiple modalities and build mutli-modal\n",
        "gradients. In this case we only look at one set of output gradients,\n",
        "rather than one per modality.\n",
        "\n",
        "First, let's load the example data of microstructural profile covariance\n",
        "`(Paquola et al., 2019) <https://journals.plos.org/plosbiology/article?\n",
        "id=10.1371/journal.pbio.3000284>`_ and functional connectivity.\n",
        "\n"
      ]
    },
    {
      "cell_type": "code",
      "execution_count": null,
      "metadata": {
        "collapsed": false
      },
      "outputs": [],
      "source": [
        "from brainspace.datasets import load_group_mpc\n",
        "\n",
        "# First load mean connectivity matrix and parcellation\n",
        "fc = load_group_fc('vosdewael', scale=200)\n",
        "mpc = load_group_mpc('vosdewael', scale=200)\n",
        "\n",
        "labeling = load_parcellation('vosdewael', scale=200, join=True)\n",
        "mask = labeling != 0\n",
        "\n",
        "seeds = [None] * 2\n",
        "seeds[0] = map_to_labels(fc[0], labeling, mask=mask, fill=np.nan)\n",
        "seeds[1] = map_to_labels(mpc[0], labeling, mask=mask, fill=np.nan)\n",
        "\n",
        "# visualise the features from a seed region (seed 0)\n",
        "plot_hemispheres(surf_lh, surf_rh, array_name=seeds, label_text=['FC', 'MPC'],\n",
        "                 size=(1200, 400), color_bar=True, cmap='viridis', zoom=1.45)"
      ]
    },
    {
      "cell_type": "markdown",
      "metadata": {},
      "source": [
        "In order to fuse the matrices, we simply pass the matrices to the fusion\n",
        "command which will rescale and horizontally concatenate the matrices.\n",
        "\n"
      ]
    },
    {
      "cell_type": "code",
      "execution_count": null,
      "metadata": {
        "collapsed": false
      },
      "outputs": [],
      "source": [
        "# Negative numbers are not allowed in fusion.\n",
        "fc[fc < 0] = 0\n",
        "\n",
        "\n",
        "def fusion(*args):\n",
        "    from scipy.stats import rankdata\n",
        "    from sklearn.preprocessing import minmax_scale\n",
        "\n",
        "    max_rk = [None] * len(args)\n",
        "    masks = [None] * len(args)\n",
        "    for j, a in enumerate(args):\n",
        "        m = masks[j] = a != 0\n",
        "        a[m] = rankdata(a[m])\n",
        "        max_rk[j] = a[m].max()\n",
        "\n",
        "    max_rk = min(max_rk)\n",
        "    for j, a in enumerate(args):\n",
        "        m = masks[j]\n",
        "        a[m] = minmax_scale(a[m], feature_range=(1, max_rk))\n",
        "\n",
        "    return np.hstack(args)\n",
        "\n",
        "\n",
        "# fuse the matrices\n",
        "fused_matrix = fusion(fc, mpc)"
      ]
    },
    {
      "cell_type": "markdown",
      "metadata": {},
      "source": [
        "We then use this output in the fit function. This will convert the long\n",
        "horizontal array into a square affinity matrix, and then perform embedding.\n",
        "\n"
      ]
    },
    {
      "cell_type": "code",
      "execution_count": null,
      "metadata": {
        "collapsed": false
      },
      "outputs": [],
      "source": [
        "gm = GradientMaps(n_components=2, kernel='normalized_angle')\n",
        "gm.fit(fused_matrix)\n",
        "\n",
        "\n",
        "gradients_fused = [None] * 2\n",
        "for i in range(2):\n",
        "    gradients_fused[i] = map_to_labels(gm.gradients_[:, i], labeling, mask=mask,\n",
        "                                       fill=np.nan)\n",
        "\n",
        "plot_hemispheres(surf_lh, surf_rh, array_name=gradients_fused,\n",
        "                 label_text=['Gradient 1', 'Gradient 2'], size=(1200, 400),\n",
        "                 color_bar=True, cmap='viridis', zoom=1.45)"
      ]
    },
    {
      "cell_type": "markdown",
      "metadata": {},
      "source": [
        "<div class=\"alert alert-info\"><h4>Note</h4><p>The mpc matrix presented here matches the subject cohort of `(Paquola et\n",
        "  al., 2019) <https://journals.plos.org/plosbiology/article?id=10.1371/\n",
        "  journal.pbio.3000284>`_. Other matrices in this package match the subject\n",
        "  groups used by `(Vos de Wael et al., 2018) <https://www.pnas.org/content/\n",
        "  115/40/10154.short>`_. We make direct comparisons in our tutorial for\n",
        "  didactic purposes only.</p></div>\n",
        "\n",
        "That concludes the second tutorial. In the third tutorial we will consider\n",
        "null hypothesis testing of comparisons between gradients and other markers.\n",
        "\n"
      ]
    }
  ],
  "metadata": {
    "kernelspec": {
      "display_name": "Python 3",
      "language": "python",
      "name": "python3"
    },
    "language_info": {
      "codemirror_mode": {
        "name": "ipython",
        "version": 3
      },
      "file_extension": ".py",
      "mimetype": "text/x-python",
      "name": "python",
      "nbconvert_exporter": "python",
      "pygments_lexer": "ipython3",
      "version": "3.10.14"
    }
  },
  "nbformat": 4,
  "nbformat_minor": 0
}
